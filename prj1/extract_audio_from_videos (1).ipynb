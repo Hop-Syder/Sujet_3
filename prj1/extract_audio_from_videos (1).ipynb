{
 "cells": [
  {
   "cell_type": "markdown",
   "metadata": {
    "notebookRunGroups": {
     "groupValue": "2"
    }
   },
   "source": [
    "# Projet1 \n",
    "# Extraction de l'audio depuis des vidéos locales\n",
    "\n",
    "Ce notebook extrait l'audio de toutes les vidéos présentes dans un dossier `../dataset/videos` et sauvegarde les fichiers audio dans `../dataset/audio` au format WAV.\n"
   ]
  },
  {
   "cell_type": "code",
   "execution_count": null,
   "metadata": {},
   "outputs": [
    {
     "ename": "",
     "evalue": "",
     "output_type": "error",
     "traceback": [
      "\u001b[1;31mLes cellules en cours d’exécution avec Python 3.12.3 nécessitent le package ipykernel.\n",
      "\u001b[1;31mInstallez « ipykernel » dans l’environnement Python. \n",
      "\u001b[1;31mCommande : « /bin/python3 -m pip install ipykernel -U --user --force-reinstall »"
     ]
    }
   ],
   "source": [
    "# Installation automatique des librairies nécessaires\n",
    "!pip install ffmpeg-python\n",
    "\n",
    "import os\n",
    "import shutil\n",
    "import ffmpeg\n",
    "import ffmpeg._run as ffmpeg_run\n",
    "from pathlib import Path"
   ]
  },
  {
   "cell_type": "code",
   "execution_count": null,
   "metadata": {},
   "outputs": [],
   "source": [
    "# Vérification de la présence de l'exécutable système FFmpeg\n",
    "import shutil\n",
    "\n",
    "if shutil.which(\"ffmpeg\") is None:\n",
    "    raise EnvironmentError(\"FFmpeg n'est pas installé sur votre système.\\n\\n\"\\\n",
    "                         \"Sur Ubuntu/Debian : sudo apt-get install ffmpeg\\n\"\\\n",
    "                         \"Sur Mac (Homebrew) : brew install ffmpeg\\n\"\\\n",
    "                         \"Sur Windows (Chocolatey) : choco install ffmpeg, ou télécharger sur le site officiel.\")\n",
    "else:\n",
    "    print(\"FFmpeg est disponible.\")"
   ]
  },
  {
   "cell_type": "code",
   "execution_count": null,
   "metadata": {},
   "outputs": [],
   "source": [
    "# Définition des dossiers de travail\n",
    "import os\n",
    "\n",
    "video_dir = 'dataset/videos'\n",
    "audio_dir = 'dataset/audio'\n",
    "\n",
    "# Création des dossiers si besoin\n",
    "if not os.path.exists(video_dir):\n",
    "    raise FileNotFoundError(f\"Le répertoire des vidéos '{video_dir}' n'existe pas.\")\n",
    "if not os.path.exists(audio_dir):\n",
    "    os.makedirs(audio_dir)\n",
    "    print(f\"Création du dossier audio : {audio_dir}\")"
   ]
  },
  {
   "cell_type": "code",
   "execution_count": null,
   "metadata": {},
   "outputs": [],
   "source": [
    "# Fonction pour extraire l'audio d'une vidéo en utilisant FFmpeg\n",
    "def extract_audio(video_path, audio_output_path):\n",
    "    \"\"\"\n",
    "    Extrait l'audio d'un fichier vidéo et le sauvegarde au format WAV.\n",
    "    Paramètres :\n",
    "        video_path (str): chemin vers le fichier vidéo\n",
    "        audio_output_path (str): chemin de sortie du fichier audio\n",
    "    \"\"\"\n",
    "    # Option -y pour écraser sans confirmation\n",
    "    result = os.system(f'ffmpeg -y -i \"{video_path}\" -ab 160k -ac 2 -ar 44100 -vn \"{audio_output_path}\"')\n",
    "    if result != 0:\n",
    "        raise RuntimeError(f\"Erreur lors de l'extraction audio pour {video_path}\")\n",
    "    print(f'Extraction audio terminée pour {video_path}')"
   ]
  },
  {
   "cell_type": "code",
   "execution_count": null,
   "metadata": {},
   "outputs": [],
   "source": [
    "# Parcours des fichiers vidéo et extraction de l'audio\n",
    "video_files = [f for f in os.listdir(video_dir) if not f.startswith('.') and os.path.isfile(os.path.join(video_dir, f))]\n",
    "\n",
    "if not video_files:\n",
    "    raise FileNotFoundError(f\"Aucun fichier vidéo trouvé dans le répertoire '{video_dir}'.\")\n",
    "\n",
    "for i, video_file in enumerate(video_files):\n",
    "    video_path = os.path.join(video_dir, video_file)\n",
    "    # Génère un nom d'audio unique (WAV)\n",
    "    audio_output_path = os.path.join(audio_dir, f'audio_{i+1}.wav')\n",
    "    try:\n",
    "        extract_audio(video_path, audio_output_path)\n",
    "    except Exception as e:\n",
    "        print(f\"Erreur lors du traitement de {video_file}: {e}\")"
   ]
  },
  {
   "cell_type": "markdown",
   "metadata": {},
   "source": [
    "## Vérification :\n",
    "\n",
    "Vous pouvez lister les fichiers audio extraits pour vérifier le résultat."
   ]
  },
  {
   "cell_type": "code",
   "execution_count": null,
   "metadata": {},
   "outputs": [],
   "source": [
    "# Affichage de la liste des fichiers audio extraits\n",
    "print(\"Fichiers audio extraits :\")\n",
    "for audio_file in os.listdir(audio_dir):\n",
    "    print(audio_file)"
   ]
  }
 ],
 "metadata": {
  "kernelspec": {
   "display_name": "Python 3",
   "language": "python",
   "name": "python3"
  },
  "language_info": {
   "name": "python",
   "version": "3.12.3"
  }
 },
 "nbformat": 4,
 "nbformat_minor": 2
}
