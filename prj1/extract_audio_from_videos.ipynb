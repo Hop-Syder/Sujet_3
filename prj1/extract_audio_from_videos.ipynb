{
  "cells": [
    {
      "cell_type": "markdown",
      "metadata": {
        "id": "view-in-github",
        "colab_type": "text"
      },
      "source": [
        "<a href=\"https://colab.research.google.com/github/Hop-Syder/Sujet_3/blob/main/prj1/extract_audio_from_videos.ipynb\" target=\"_parent\"><img src=\"https://colab.research.google.com/assets/colab-badge.svg\" alt=\"Open In Colab\"/></a>"
      ]
    },
    {
      "cell_type": "markdown",
      "metadata": {
        "notebookRunGroups": {
          "groupValue": "2"
        },
        "id": "RMFzxR1D_mxi"
      },
      "source": [
        "# Projet1\n",
        "# Extraction de l'audio depuis des vidéos locales\n",
        "\n",
        "Ce notebook extrait l'audio de toutes les vidéos présentes dans un dossier `../dataset/videos` et sauvegarde les fichiers audio dans `../dataset/audio` au format WAV.\n"
      ]
    },
    {
      "cell_type": "markdown",
      "source": [
        "## Installation des librairies nécessaires"
      ],
      "metadata": {
        "id": "hWLvUmTWD0qQ"
      }
    },
    {
      "cell_type": "code",
      "execution_count": 3,
      "metadata": {
        "id": "9q9IyZwz_mxn",
        "outputId": "dbd2ff98-205c-403f-d251-b0093c01605d",
        "colab": {
          "base_uri": "https://localhost:8080/"
        }
      },
      "outputs": [
        {
          "output_type": "stream",
          "name": "stdout",
          "text": [
            "Collecting ffmpeg-python\n",
            "  Downloading ffmpeg_python-0.2.0-py3-none-any.whl.metadata (1.7 kB)\n",
            "Collecting future (from ffmpeg-python)\n",
            "  Downloading future-1.0.0-py3-none-any.whl.metadata (4.0 kB)\n",
            "Downloading ffmpeg_python-0.2.0-py3-none-any.whl (25 kB)\n",
            "Downloading future-1.0.0-py3-none-any.whl (491 kB)\n",
            "\u001b[2K   \u001b[90m━━━━━━━━━━━━━━━━━━━━━━━━━━━━━━━━━━━━━━━━\u001b[0m \u001b[32m491.3/491.3 kB\u001b[0m \u001b[31m9.3 MB/s\u001b[0m eta \u001b[36m0:00:00\u001b[0m\n",
            "\u001b[?25hInstalling collected packages: future, ffmpeg-python\n",
            "Successfully installed ffmpeg-python-0.2.0 future-1.0.0\n"
          ]
        }
      ],
      "source": [
        "# Installation automatique des librairies nécessaires\n",
        "!pip install ffmpeg-python\n",
        "\n",
        "import os\n",
        "import shutil\n",
        "import ffmpeg\n",
        "import ffmpeg._run as ffmpeg_run\n",
        "from pathlib import Path"
      ]
    },
    {
      "cell_type": "markdown",
      "source": [
        "## Définition des dossiers de travail"
      ],
      "metadata": {
        "id": "QkboOJXhD72e"
      }
    },
    {
      "cell_type": "code",
      "source": [
        "from google.colab import drive\n",
        "drive.mount('/content/drive')"
      ],
      "metadata": {
        "id": "CPPZtFLwgkUP",
        "outputId": "371b3815-e85c-4a42-bc4d-dc874cfbb32c",
        "colab": {
          "base_uri": "https://localhost:8080/"
        }
      },
      "execution_count": 5,
      "outputs": [
        {
          "output_type": "stream",
          "name": "stdout",
          "text": [
            "Mounted at /content/drive\n"
          ]
        }
      ]
    },
    {
      "cell_type": "code",
      "execution_count": 6,
      "metadata": {
        "id": "gckb2fM__mxp"
      },
      "outputs": [],
      "source": [
        "# Définition des dossiers de travail\n",
        "import os\n",
        "\n",
        "video_dir = '/content/drive/MyDrive/pionner_dataset/dataset/videos'\n",
        "audio_dir = '/content/drive/MyDrive/pionner_dataset/dataset/audio'\n"
      ]
    },
    {
      "cell_type": "markdown",
      "source": [
        "## Fonction pour extraire l'audio d'une vidéo en utilisant FFmpeg"
      ],
      "metadata": {
        "id": "_a-GKJJdil3O"
      }
    },
    {
      "cell_type": "code",
      "execution_count": 7,
      "metadata": {
        "id": "zNRPxwXO_mxq"
      },
      "outputs": [],
      "source": [
        "# Fonction pour extraire l'audio d'une vidéo en utilisant FFmpeg\n",
        "def extract_audio(video_path, audio_output_path):\n",
        "    \"\"\"\n",
        "    Extrait l'audio d'un fichier vidéo et le sauvegarde au format WAV.\n",
        "    Paramètres :\n",
        "        video_path (str): chemin vers le fichier vidéo\n",
        "        audio_output_path (str): chemin de sortie du fichier audio\n",
        "    \"\"\"\n",
        "    # Option -y pour écraser sans confirmation\n",
        "    result = os.system(f'ffmpeg -y -i \"{video_path}\" -ab 160k -ac 2 -ar 44100 -vn \"{audio_output_path}\"')\n",
        "    if result != 0:\n",
        "        raise RuntimeError(f\"Erreur lors de l'extraction audio pour {video_path}\")\n",
        "    print(f'Extraction audio terminée pour {video_path}')"
      ]
    },
    {
      "cell_type": "code",
      "execution_count": 8,
      "metadata": {
        "id": "kM9XCm5h_mxq",
        "outputId": "1963827c-8c07-41b0-d5e8-db8fc6b5f47c",
        "colab": {
          "base_uri": "https://localhost:8080/"
        }
      },
      "outputs": [
        {
          "output_type": "stream",
          "name": "stdout",
          "text": [
            "Extraction audio terminée pour /content/drive/MyDrive/pionner_dataset/dataset/videos/video12.mp4\n",
            "Extraction audio terminée pour /content/drive/MyDrive/pionner_dataset/dataset/videos/video8.mp4\n",
            "Extraction audio terminée pour /content/drive/MyDrive/pionner_dataset/dataset/videos/video10.mp4\n",
            "Extraction audio terminée pour /content/drive/MyDrive/pionner_dataset/dataset/videos/video5.mp4\n",
            "Extraction audio terminée pour /content/drive/MyDrive/pionner_dataset/dataset/videos/video14.mp4\n",
            "Extraction audio terminée pour /content/drive/MyDrive/pionner_dataset/dataset/videos/video2.mp4\n",
            "Extraction audio terminée pour /content/drive/MyDrive/pionner_dataset/dataset/videos/video3.mp4\n",
            "Extraction audio terminée pour /content/drive/MyDrive/pionner_dataset/dataset/videos/video13.mp4\n",
            "Extraction audio terminée pour /content/drive/MyDrive/pionner_dataset/dataset/videos/video9.mp4\n",
            "Extraction audio terminée pour /content/drive/MyDrive/pionner_dataset/dataset/videos/video11.mp4\n",
            "Extraction audio terminée pour /content/drive/MyDrive/pionner_dataset/dataset/videos/video7.mp4\n",
            "Extraction audio terminée pour /content/drive/MyDrive/pionner_dataset/dataset/videos/video1.mp4\n",
            "Extraction audio terminée pour /content/drive/MyDrive/pionner_dataset/dataset/videos/video4.mp4\n",
            "Extraction audio terminée pour /content/drive/MyDrive/pionner_dataset/dataset/videos/video6.mp4\n",
            "Extraction audio terminée pour /content/drive/MyDrive/pionner_dataset/dataset/videos/video17.mp4\n",
            "Extraction audio terminée pour /content/drive/MyDrive/pionner_dataset/dataset/videos/video16.mp4\n",
            "Extraction audio terminée pour /content/drive/MyDrive/pionner_dataset/dataset/videos/video18.mp4\n",
            "Extraction audio terminée pour /content/drive/MyDrive/pionner_dataset/dataset/videos/video19.mp4\n",
            "Extraction audio terminée pour /content/drive/MyDrive/pionner_dataset/dataset/videos/video15.mp4\n",
            "Extraction audio terminée pour /content/drive/MyDrive/pionner_dataset/dataset/videos/video20.mp4\n"
          ]
        }
      ],
      "source": [
        "# Parcours des fichiers vidéo et extraction de l'audio\n",
        "video_files = [f for f in os.listdir(video_dir) if not f.startswith('.') and os.path.isfile(os.path.join(video_dir, f))]\n",
        "\n",
        "if not video_files:\n",
        "    raise FileNotFoundError(f\"Aucun fichier vidéo trouvé dans le répertoire '{video_dir}'.\")\n",
        "\n",
        "for i, video_file in enumerate(video_files):\n",
        "    video_path = os.path.join(video_dir, video_file)\n",
        "    # Génère un nom d'audio unique (WAV)\n",
        "    audio_output_path = os.path.join(audio_dir, f'audio_{i+1}.wav')\n",
        "    try:\n",
        "        extract_audio(video_path, audio_output_path)\n",
        "    except Exception as e:\n",
        "        print(f\"Erreur lors du traitement de {video_file}: {e}\")"
      ]
    },
    {
      "cell_type": "markdown",
      "metadata": {
        "id": "7CzT5jRm_mxr"
      },
      "source": [
        "## Vérification :\n",
        "\n",
        "Vous pouvez lister les fichiers audio extraits pour vérifier le résultat."
      ]
    },
    {
      "cell_type": "code",
      "execution_count": 9,
      "metadata": {
        "id": "ygjBPLAB_mxr",
        "outputId": "7ea2f051-bc4e-4a5b-c5fa-3125f9c9f40f",
        "colab": {
          "base_uri": "https://localhost:8080/"
        }
      },
      "outputs": [
        {
          "output_type": "stream",
          "name": "stdout",
          "text": [
            "Fichiers audio extraits :\n",
            "audio_1.wav\n",
            "audio_2.wav\n",
            "audio_3.wav\n",
            "audio_4.wav\n",
            "audio_5.wav\n",
            "audio_6.wav\n",
            "audio_7.wav\n",
            "audio_8.wav\n",
            "audio_9.wav\n",
            "audio_10.wav\n",
            "audio_11.wav\n",
            "audio_12.wav\n",
            "audio_13.wav\n",
            "audio_14.wav\n",
            "audio_15.wav\n",
            "audio_16.wav\n",
            "audio_17.wav\n",
            "audio_18.wav\n",
            "audio_19.wav\n",
            "audio_20.wav\n"
          ]
        }
      ],
      "source": [
        "# Affichage de la liste des fichiers audio extraits\n",
        "print(\"Fichiers audio extraits :\")\n",
        "for audio_file in os.listdir(audio_dir):\n",
        "    print(audio_file)"
      ]
    }
  ],
  "metadata": {
    "kernelspec": {
      "display_name": "Python 3",
      "name": "python3"
    },
    "language_info": {
      "name": "python",
      "version": "3.12.3"
    },
    "colab": {
      "provenance": [],
      "gpuType": "V28",
      "include_colab_link": true
    },
    "accelerator": "TPU"
  },
  "nbformat": 4,
  "nbformat_minor": 0
}