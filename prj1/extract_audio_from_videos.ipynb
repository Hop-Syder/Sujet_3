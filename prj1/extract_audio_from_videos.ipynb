{
  "cells": [
    {
      "cell_type": "markdown",
      "metadata": {
        "id": "view-in-github",
        "colab_type": "text"
      },
      "source": [
        "<a href=\"https://colab.research.google.com/github/Hop-Syder/Sujet_3/blob/main/prj1/extract_audio_from_videos.ipynb\" target=\"_parent\"><img src=\"https://colab.research.google.com/assets/colab-badge.svg\" alt=\"Open In Colab\"/></a>"
      ]
    },
    {
      "cell_type": "markdown",
      "metadata": {
        "notebookRunGroups": {
          "groupValue": "2"
        },
        "id": "RMFzxR1D_mxi"
      },
      "source": [
        "# Projet1\n",
        "# Extraction de l'audio depuis des vidéos locales\n",
        "\n",
        "Ce notebook extrait l'audio de toutes les vidéos présentes dans un dossier `../dataset/videos` et sauvegarde les fichiers audio dans `../dataset/audio` au format WAV.\n"
      ]
    },
    {
      "cell_type": "markdown",
      "source": [
        "## Installation des librairies nécessaires"
      ],
      "metadata": {
        "id": "hWLvUmTWD0qQ"
      }
    },
    {
      "cell_type": "code",
      "execution_count": 5,
      "metadata": {
        "id": "9q9IyZwz_mxn",
        "outputId": "3b54eb0f-c3e5-4390-e48c-3b5d61088f6c",
        "colab": {
          "base_uri": "https://localhost:8080/"
        }
      },
      "outputs": [
        {
          "output_type": "stream",
          "name": "stdout",
          "text": [
            "Requirement already satisfied: ffmpeg-python in /usr/local/lib/python3.11/dist-packages (0.2.0)\n",
            "Requirement already satisfied: future in /usr/local/lib/python3.11/dist-packages (from ffmpeg-python) (1.0.0)\n",
            "Requirement already satisfied: pydub in /usr/local/lib/python3.11/dist-packages (0.25.1)\n"
          ]
        }
      ],
      "source": [
        "# Installation automatique des librairies nécessaires\n",
        "!pip install ffmpeg-python\n",
        "!pip install pydub\n",
        "\n",
        "import os\n",
        "import shutil\n",
        "import ffmpeg\n",
        "import ffmpeg._run as ffmpeg_run\n",
        "from pathlib import Path\n",
        "from pydub import AudioSegment"
      ]
    },
    {
      "cell_type": "markdown",
      "source": [
        "## Définition des dossiers de travail"
      ],
      "metadata": {
        "id": "QkboOJXhD72e"
      }
    },
    {
      "cell_type": "code",
      "source": [
        "from google.colab import drive\n",
        "drive.mount('/content/drive')"
      ],
      "metadata": {
        "colab": {
          "base_uri": "https://localhost:8080/"
        },
        "id": "CPPZtFLwgkUP",
        "outputId": "16c965cb-d134-48e9-f128-423fbe3dd212"
      },
      "execution_count": 6,
      "outputs": [
        {
          "output_type": "stream",
          "name": "stdout",
          "text": [
            "Drive already mounted at /content/drive; to attempt to forcibly remount, call drive.mount(\"/content/drive\", force_remount=True).\n"
          ]
        }
      ]
    },
    {
      "cell_type": "code",
      "execution_count": 7,
      "metadata": {
        "id": "gckb2fM__mxp"
      },
      "outputs": [],
      "source": [
        "# Définition des dossiers de travail\n",
        "import os\n",
        "\n",
        "video_dir = '/content/drive/MyDrive/pionner_dataset/dataset/videos'\n",
        "audio_dir = '/content/drive/MyDrive/pionner_dataset/dataset/audio'\n"
      ]
    },
    {
      "cell_type": "markdown",
      "source": [
        "## Fonction pour extraire l'audio d'une vidéo en utilisant FFmpeg"
      ],
      "metadata": {
        "id": "_a-GKJJdil3O"
      }
    },
    {
      "cell_type": "code",
      "execution_count": 8,
      "metadata": {
        "id": "zNRPxwXO_mxq"
      },
      "outputs": [],
      "source": [
        "def extract_audio(video_path, audio_output_path):\n",
        "    \"\"\"\n",
        "    Extrait l'audio d'un fichier vidéo, le compresse et le sauvegarde au format WAV.\n",
        "    Paramètres :\n",
        "        video_path (str): chemin vers le fichier vidéo\n",
        "        audio_output_path (str): chemin de sortie du fichier audio\n",
        "    \"\"\"\n",
        "    # Option -y pour écraser sans confirmation, -ab pour le bitrate audio (ici 64k pour la compression)\n",
        "    result = os.system(f'ffmpeg -y -i \"{video_path}\" -ab 64k -ac 2 -ar 44100 -vn \"{audio_output_path}\"')\n",
        "    if result != 0:\n",
        "        raise RuntimeError(f\"Erreur lors de l'extraction audio pour {video_path}\")\n",
        "    print(f'Extraction audio terminée pour {video_path}')"
      ]
    },
    {
      "cell_type": "code",
      "execution_count": 9,
      "metadata": {
        "id": "kM9XCm5h_mxq",
        "colab": {
          "base_uri": "https://localhost:8080/"
        },
        "outputId": "8068f570-f750-45b3-e01a-51b606414cd8"
      },
      "outputs": [
        {
          "output_type": "stream",
          "name": "stdout",
          "text": [
            "Extraction audio terminée pour /content/drive/MyDrive/pionner_dataset/dataset/videos/video12.mp4\n",
            "Extraction audio terminée pour /content/drive/MyDrive/pionner_dataset/dataset/videos/video8.mp4\n",
            "Extraction audio terminée pour /content/drive/MyDrive/pionner_dataset/dataset/videos/video10.mp4\n",
            "Extraction audio terminée pour /content/drive/MyDrive/pionner_dataset/dataset/videos/video5.mp4\n",
            "Extraction audio terminée pour /content/drive/MyDrive/pionner_dataset/dataset/videos/video14.mp4\n",
            "Extraction audio terminée pour /content/drive/MyDrive/pionner_dataset/dataset/videos/video2.mp4\n",
            "Extraction audio terminée pour /content/drive/MyDrive/pionner_dataset/dataset/videos/video3.mp4\n",
            "Extraction audio terminée pour /content/drive/MyDrive/pionner_dataset/dataset/videos/video13.mp4\n",
            "Extraction audio terminée pour /content/drive/MyDrive/pionner_dataset/dataset/videos/video9.mp4\n",
            "Extraction audio terminée pour /content/drive/MyDrive/pionner_dataset/dataset/videos/video11.mp4\n",
            "Extraction audio terminée pour /content/drive/MyDrive/pionner_dataset/dataset/videos/video7.mp4\n",
            "Extraction audio terminée pour /content/drive/MyDrive/pionner_dataset/dataset/videos/video1.mp4\n",
            "Extraction audio terminée pour /content/drive/MyDrive/pionner_dataset/dataset/videos/video4.mp4\n",
            "Extraction audio terminée pour /content/drive/MyDrive/pionner_dataset/dataset/videos/video6.mp4\n",
            "Extraction audio terminée pour /content/drive/MyDrive/pionner_dataset/dataset/videos/video17.mp4\n",
            "Extraction audio terminée pour /content/drive/MyDrive/pionner_dataset/dataset/videos/video16.mp4\n",
            "Extraction audio terminée pour /content/drive/MyDrive/pionner_dataset/dataset/videos/video18.mp4\n",
            "Extraction audio terminée pour /content/drive/MyDrive/pionner_dataset/dataset/videos/video19.mp4\n",
            "Extraction audio terminée pour /content/drive/MyDrive/pionner_dataset/dataset/videos/video15.mp4\n",
            "Extraction audio terminée pour /content/drive/MyDrive/pionner_dataset/dataset/videos/video20.mp4\n"
          ]
        }
      ],
      "source": [
        "# Parcours des fichiers vidéo et extraction de l'audio\n",
        "video_files = [f for f in os.listdir(video_dir) if not f.startswith('.') and os.path.isfile(os.path.join(video_dir, f))]\n",
        "\n",
        "if not video_files:\n",
        "    raise FileNotFoundError(f\"Aucun fichier vidéo trouvé dans le répertoire '{video_dir}'.\")\n",
        "\n",
        "for i, video_file in enumerate(video_files):\n",
        "    video_path = os.path.join(video_dir, video_file)\n",
        "    # Génère un nom d'audio unique (WAV)\n",
        "    audio_output_path = os.path.join(audio_dir, f'audio_{i+1}.wav')\n",
        "    try:\n",
        "        extract_audio(video_path, audio_output_path)\n",
        "    except Exception as e:\n",
        "        print(f\"Erreur lors du traitement de {video_file}: {e}\")"
      ]
    },
    {
      "cell_type": "markdown",
      "metadata": {
        "id": "7CzT5jRm_mxr"
      },
      "source": [
        "## Vérification :\n",
        "\n",
        "Vous pouvez lister les fichiers audio extraits pour vérifier le résultat."
      ]
    },
    {
      "cell_type": "code",
      "execution_count": 10,
      "metadata": {
        "id": "ygjBPLAB_mxr",
        "colab": {
          "base_uri": "https://localhost:8080/"
        },
        "outputId": "96a6477d-eab9-4339-9724-722ea1f08946",
        "collapsed": true
      },
      "outputs": [
        {
          "output_type": "stream",
          "name": "stdout",
          "text": [
            "Fichiers audio extraits :\n",
            "audio_1.wav\n",
            "audio_2.wav\n",
            "audio_3.wav\n",
            "audio_4.wav\n",
            "audio_5.wav\n",
            "audio_6.wav\n",
            "audio_7.wav\n",
            "audio_8.wav\n",
            "audio_9.wav\n",
            "audio_10.wav\n",
            "audio_11.wav\n",
            "audio_12.wav\n",
            "audio_13.wav\n",
            "audio_14.wav\n",
            "audio_15.wav\n",
            "audio_16.wav\n",
            "audio_17.wav\n",
            "audio_18.wav\n",
            "audio_19.wav\n",
            "audio_20.wav\n"
          ]
        }
      ],
      "source": [
        "# Affichage de la liste des fichiers audio extraits\n",
        "print(\"Fichiers audio extraits :\")\n",
        "for audio_file in os.listdir(audio_dir):\n",
        "    print(audio_file)"
      ]
    },
    {
      "cell_type": "code",
      "source": [
        "# prompt: quel est l'heure total de la somme des fichier contenu dans le dosieer audio-dir\n",
        "\n",
        "import os\n",
        "from pydub import AudioSegment\n",
        "import math\n",
        "\n",
        "def get_total_audio_duration(audio_dir):\n",
        "  total_duration = 0\n",
        "  for filename in os.listdir(audio_dir):\n",
        "    if filename.endswith(('.wav', '.mp3')): # Add other audio formats if needed\n",
        "      filepath = os.path.join(audio_dir, filename)\n",
        "      try:\n",
        "        audio = AudioSegment.from_file(filepath)\n",
        "        total_duration += audio.duration_seconds\n",
        "      except Exception as e:\n",
        "        print(f\"Error processing {filename}: {e}\")\n",
        "  return total_duration\n",
        "\n",
        "total_time = get_total_audio_duration(audio_dir)\n",
        "print(f\"Total duration of all audio files: {total_time} seconds\")\n",
        "\n",
        "total_seconds = get_total_audio_duration(audio_dir)\n",
        "total_hours = math.floor(total_seconds / 3600)\n",
        "total_minutes = math.floor((total_seconds % 3600) / 60)\n",
        "total_seconds = math.floor(total_seconds % 60)\n",
        "\n",
        "print(f\"Total duration of all audio files: {total_hours} hours, {total_minutes} minutes, and {total_seconds} seconds\")\n"
      ],
      "metadata": {
        "id": "F8keX7qP6sR8",
        "outputId": "8205d683-489c-4eae-d119-b1031ca1aafe",
        "colab": {
          "base_uri": "https://localhost:8080/"
        }
      },
      "execution_count": 11,
      "outputs": [
        {
          "output_type": "stream",
          "name": "stdout",
          "text": [
            "Total duration of all audio files: 45860.45532879818 seconds\n",
            "Total duration of all audio files: 12 hours, 44 minutes, and 20 seconds\n"
          ]
        }
      ]
    }
  ],
  "metadata": {
    "kernelspec": {
      "display_name": "Python 3",
      "name": "python3"
    },
    "language_info": {
      "name": "python",
      "version": "3.12.3"
    },
    "colab": {
      "provenance": [],
      "gpuType": "V28",
      "include_colab_link": true
    },
    "accelerator": "TPU"
  },
  "nbformat": 4,
  "nbformat_minor": 0
}