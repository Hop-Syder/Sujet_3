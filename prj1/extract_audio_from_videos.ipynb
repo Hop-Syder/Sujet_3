{
  "cells": [
    {
      "cell_type": "markdown",
      "metadata": {
        "id": "view-in-github",
        "colab_type": "text"
      },
      "source": [
        "<a href=\"https://colab.research.google.com/github/Hop-Syder/Sujet_3/blob/main/prj1/extract_audio_from_videos.ipynb\" target=\"_parent\"><img src=\"https://colab.research.google.com/assets/colab-badge.svg\" alt=\"Open In Colab\"/></a>"
      ]
    },
    {
      "cell_type": "markdown",
      "metadata": {
        "notebookRunGroups": {
          "groupValue": "2"
        },
        "id": "RMFzxR1D_mxi"
      },
      "source": [
        "# Projet1\n",
        "# Extraction de l'audio depuis des vidéos locales\n",
        "\n",
        "Ce notebook extrait l'audio de toutes les vidéos présentes dans un dossier `../dataset/videos` et sauvegarde les fichiers audio dans `../dataset/audio` au format WAV.\n"
      ]
    },
    {
      "cell_type": "markdown",
      "source": [
        "## Installation des librairies nécessaires"
      ],
      "metadata": {
        "id": "hWLvUmTWD0qQ"
      }
    },
    {
      "cell_type": "code",
      "execution_count": null,
      "metadata": {
        "id": "9q9IyZwz_mxn",
        "outputId": "0dbe268a-6d96-46a7-d35f-0264a7f919dc",
        "colab": {
          "base_uri": "https://localhost:8080/"
        }
      },
      "outputs": [
        {
          "output_type": "stream",
          "name": "stdout",
          "text": [
            "Collecting ffmpeg-python\n",
            "  Downloading ffmpeg_python-0.2.0-py3-none-any.whl.metadata (1.7 kB)\n",
            "Requirement already satisfied: future in /usr/local/lib/python3.11/dist-packages (from ffmpeg-python) (1.0.0)\n",
            "Downloading ffmpeg_python-0.2.0-py3-none-any.whl (25 kB)\n",
            "Installing collected packages: ffmpeg-python\n",
            "Successfully installed ffmpeg-python-0.2.0\n"
          ]
        }
      ],
      "source": [
        "# Installation automatique des librairies nécessaires\n",
        "!pip install ffmpeg-python\n",
        "\n",
        "import os\n",
        "import shutil\n",
        "import ffmpeg\n",
        "import ffmpeg._run as ffmpeg_run\n",
        "from pathlib import Path"
      ]
    },
    {
      "cell_type": "markdown",
      "source": [
        "## Définition des dossiers de travail"
      ],
      "metadata": {
        "id": "QkboOJXhD72e"
      }
    },
    {
      "cell_type": "code",
      "execution_count": null,
      "metadata": {
        "id": "gckb2fM__mxp",
        "outputId": "340c6037-180e-4d56-dfbf-7d79d76a54c8",
        "colab": {
          "base_uri": "https://localhost:8080/",
          "height": 211
        }
      },
      "outputs": [
        {
          "output_type": "error",
          "ename": "FileNotFoundError",
          "evalue": "Le répertoire des vidéos 'dataset/videos' n'existe pas.",
          "traceback": [
            "\u001b[0;31m---------------------------------------------------------------------------\u001b[0m",
            "\u001b[0;31mFileNotFoundError\u001b[0m                         Traceback (most recent call last)",
            "\u001b[0;32m<ipython-input-2-44744cdf307c>\u001b[0m in \u001b[0;36m<cell line: 0>\u001b[0;34m()\u001b[0m\n\u001b[1;32m      7\u001b[0m \u001b[0;31m# Création des dossiers si besoin\u001b[0m\u001b[0;34m\u001b[0m\u001b[0;34m\u001b[0m\u001b[0m\n\u001b[1;32m      8\u001b[0m \u001b[0;32mif\u001b[0m \u001b[0;32mnot\u001b[0m \u001b[0mos\u001b[0m\u001b[0;34m.\u001b[0m\u001b[0mpath\u001b[0m\u001b[0;34m.\u001b[0m\u001b[0mexists\u001b[0m\u001b[0;34m(\u001b[0m\u001b[0mvideo_dir\u001b[0m\u001b[0;34m)\u001b[0m\u001b[0;34m:\u001b[0m\u001b[0;34m\u001b[0m\u001b[0;34m\u001b[0m\u001b[0m\n\u001b[0;32m----> 9\u001b[0;31m     \u001b[0;32mraise\u001b[0m \u001b[0mFileNotFoundError\u001b[0m\u001b[0;34m(\u001b[0m\u001b[0;34mf\"Le répertoire des vidéos '{video_dir}' n'existe pas.\"\u001b[0m\u001b[0;34m)\u001b[0m\u001b[0;34m\u001b[0m\u001b[0;34m\u001b[0m\u001b[0m\n\u001b[0m\u001b[1;32m     10\u001b[0m \u001b[0;32mif\u001b[0m \u001b[0;32mnot\u001b[0m \u001b[0mos\u001b[0m\u001b[0;34m.\u001b[0m\u001b[0mpath\u001b[0m\u001b[0;34m.\u001b[0m\u001b[0mexists\u001b[0m\u001b[0;34m(\u001b[0m\u001b[0maudio_dir\u001b[0m\u001b[0;34m)\u001b[0m\u001b[0;34m:\u001b[0m\u001b[0;34m\u001b[0m\u001b[0;34m\u001b[0m\u001b[0m\n\u001b[1;32m     11\u001b[0m     \u001b[0mos\u001b[0m\u001b[0;34m.\u001b[0m\u001b[0mmakedirs\u001b[0m\u001b[0;34m(\u001b[0m\u001b[0maudio_dir\u001b[0m\u001b[0;34m)\u001b[0m\u001b[0;34m\u001b[0m\u001b[0;34m\u001b[0m\u001b[0m\n",
            "\u001b[0;31mFileNotFoundError\u001b[0m: Le répertoire des vidéos 'dataset/videos' n'existe pas."
          ]
        }
      ],
      "source": [
        "# Définition des dossiers de travail\n",
        "import os\n",
        "\n",
        "video_dir = 'dataset/videos'\n",
        "audio_dir = 'dataset/audio'\n",
        "\n",
        "# Création des dossiers si besoin\n",
        "if not os.path.exists(video_dir):\n",
        "    raise FileNotFoundError(f\"Le répertoire des vidéos '{video_dir}' n'existe pas.\")\n",
        "if not os.path.exists(audio_dir):\n",
        "    os.makedirs(audio_dir)\n",
        "    print(f\"Création du dossier audio : {audio_dir}\")"
      ]
    },
    {
      "cell_type": "code",
      "execution_count": null,
      "metadata": {
        "id": "zNRPxwXO_mxq"
      },
      "outputs": [],
      "source": [
        "# Fonction pour extraire l'audio d'une vidéo en utilisant FFmpeg\n",
        "def extract_audio(video_path, audio_output_path):\n",
        "    \"\"\"\n",
        "    Extrait l'audio d'un fichier vidéo et le sauvegarde au format WAV.\n",
        "    Paramètres :\n",
        "        video_path (str): chemin vers le fichier vidéo\n",
        "        audio_output_path (str): chemin de sortie du fichier audio\n",
        "    \"\"\"\n",
        "    # Option -y pour écraser sans confirmation\n",
        "    result = os.system(f'ffmpeg -y -i \"{video_path}\" -ab 160k -ac 2 -ar 44100 -vn \"{audio_output_path}\"')\n",
        "    if result != 0:\n",
        "        raise RuntimeError(f\"Erreur lors de l'extraction audio pour {video_path}\")\n",
        "    print(f'Extraction audio terminée pour {video_path}')"
      ]
    },
    {
      "cell_type": "code",
      "execution_count": null,
      "metadata": {
        "id": "kM9XCm5h_mxq"
      },
      "outputs": [],
      "source": [
        "# Parcours des fichiers vidéo et extraction de l'audio\n",
        "video_files = [f for f in os.listdir(video_dir) if not f.startswith('.') and os.path.isfile(os.path.join(video_dir, f))]\n",
        "\n",
        "if not video_files:\n",
        "    raise FileNotFoundError(f\"Aucun fichier vidéo trouvé dans le répertoire '{video_dir}'.\")\n",
        "\n",
        "for i, video_file in enumerate(video_files):\n",
        "    video_path = os.path.join(video_dir, video_file)\n",
        "    # Génère un nom d'audio unique (WAV)\n",
        "    audio_output_path = os.path.join(audio_dir, f'audio_{i+1}.wav')\n",
        "    try:\n",
        "        extract_audio(video_path, audio_output_path)\n",
        "    except Exception as e:\n",
        "        print(f\"Erreur lors du traitement de {video_file}: {e}\")"
      ]
    },
    {
      "cell_type": "markdown",
      "metadata": {
        "id": "7CzT5jRm_mxr"
      },
      "source": [
        "## Vérification :\n",
        "\n",
        "Vous pouvez lister les fichiers audio extraits pour vérifier le résultat."
      ]
    },
    {
      "cell_type": "code",
      "execution_count": null,
      "metadata": {
        "id": "ygjBPLAB_mxr"
      },
      "outputs": [],
      "source": [
        "# Affichage de la liste des fichiers audio extraits\n",
        "print(\"Fichiers audio extraits :\")\n",
        "for audio_file in os.listdir(audio_dir):\n",
        "    print(audio_file)"
      ]
    }
  ],
  "metadata": {
    "kernelspec": {
      "display_name": "Python 3",
      "name": "python3"
    },
    "language_info": {
      "name": "python",
      "version": "3.12.3"
    },
    "colab": {
      "provenance": [],
      "gpuType": "T4",
      "include_colab_link": true
    },
    "accelerator": "GPU"
  },
  "nbformat": 4,
  "nbformat_minor": 0
}